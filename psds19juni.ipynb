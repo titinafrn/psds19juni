{
  "nbformat": 4,
  "nbformat_minor": 0,
  "metadata": {
    "colab": {
      "provenance": []
    },
    "kernelspec": {
      "name": "python3",
      "display_name": "Python 3"
    },
    "language_info": {
      "name": "python"
    }
  },
  "cells": [
    {
      "cell_type": "markdown",
      "source": [
        "**Operator Aritmatika**"
      ],
      "metadata": {
        "id": "js27WOJrhFwI"
      }
    },
    {
      "cell_type": "code",
      "source": [
        "#penjumlahan\n",
        "print('penjumlahan: ')\n",
        "print(5+7)"
      ],
      "metadata": {
        "colab": {
          "base_uri": "https://localhost:8080/"
        },
        "id": "b6zM-TIfDtcp",
        "outputId": "1ca86939-8459-4ce9-9f73-e382962c5300"
      },
      "execution_count": null,
      "outputs": [
        {
          "output_type": "stream",
          "name": "stdout",
          "text": [
            "penjumlahan: \n",
            "12\n"
          ]
        }
      ]
    },
    {
      "cell_type": "code",
      "source": [
        "#pengurangan\n",
        "print('pengurangan: ')\n",
        "print('-'*20)\n",
        "print(0-4)"
      ],
      "metadata": {
        "colab": {
          "base_uri": "https://localhost:8080/"
        },
        "id": "h3gv9LARD32B",
        "outputId": "958eec77-597c-4298-fe15-75f6a268bfa1"
      },
      "execution_count": null,
      "outputs": [
        {
          "output_type": "stream",
          "name": "stdout",
          "text": [
            "pengurangan: \n",
            "--------------------\n",
            "-4\n"
          ]
        }
      ]
    },
    {
      "cell_type": "code",
      "source": [
        "#perkalian\n",
        "print('perkalian: ')\n",
        "print('-'*20)\n",
        "print(8*3)"
      ],
      "metadata": {
        "colab": {
          "base_uri": "https://localhost:8080/"
        },
        "id": "WGKZUwSMEO3T",
        "outputId": "6fdbf3bc-c652-45ba-d243-293c1dbaa006"
      },
      "execution_count": null,
      "outputs": [
        {
          "output_type": "stream",
          "name": "stdout",
          "text": [
            "perkalian: \n",
            "--------------------\n",
            "24\n"
          ]
        }
      ]
    },
    {
      "cell_type": "code",
      "source": [
        "#pembagian\n",
        "print('pembagian: ')\n",
        "print('-'*20)\n",
        "print(21/9)"
      ],
      "metadata": {
        "colab": {
          "base_uri": "https://localhost:8080/"
        },
        "id": "tQku3SBQEeHt",
        "outputId": "036793b1-1060-4fae-ae7b-005b186596c9"
      },
      "execution_count": null,
      "outputs": [
        {
          "output_type": "stream",
          "name": "stdout",
          "text": [
            "pembagian: \n",
            "--------------------\n",
            "2.3333333333333335\n"
          ]
        }
      ]
    },
    {
      "cell_type": "code",
      "source": [
        "#modulus\n",
        "print('modulus: ')\n",
        "print('-'*20)\n",
        "print(9%2)"
      ],
      "metadata": {
        "colab": {
          "base_uri": "https://localhost:8080/"
        },
        "id": "eGgdHqpCEmTF",
        "outputId": "b1822fc2-31f6-4754-aed7-f54cff7a9df1"
      },
      "execution_count": null,
      "outputs": [
        {
          "output_type": "stream",
          "name": "stdout",
          "text": [
            "modulus: \n",
            "--------------------\n",
            "1\n"
          ]
        }
      ]
    },
    {
      "cell_type": "code",
      "source": [
        "#perpangkatan\n",
        "print('perpangkatan: ')\n",
        "print('-'*20)\n",
        "print(3**6)"
      ],
      "metadata": {
        "colab": {
          "base_uri": "https://localhost:8080/"
        },
        "id": "MYVw1OExExji",
        "outputId": "00797d3a-8ad4-4cb4-b5d6-407b771501ac"
      },
      "execution_count": null,
      "outputs": [
        {
          "output_type": "stream",
          "name": "stdout",
          "text": [
            "perpangkatan: \n",
            "--------------------\n",
            "729\n"
          ]
        }
      ]
    },
    {
      "cell_type": "code",
      "source": [
        "#pembagian dengan hasil pembukatan flooring\n",
        "print('pembagian pembulatan flooring: ')\n",
        "print('-'*20)\n",
        "print(4//2)"
      ],
      "metadata": {
        "colab": {
          "base_uri": "https://localhost:8080/"
        },
        "id": "Cv7fAAcvE8YS",
        "outputId": "3a1120ab-f02c-4c63-933c-0b9e661a7b88"
      },
      "execution_count": null,
      "outputs": [
        {
          "output_type": "stream",
          "name": "stdout",
          "text": [
            "pembagian pembulatan flooring: \n",
            "--------------------\n",
            "2\n"
          ]
        }
      ]
    },
    {
      "cell_type": "markdown",
      "source": [
        "**Operator Assigment**"
      ],
      "metadata": {
        "id": "UwXTaFLwhlL2"
      }
    },
    {
      "cell_type": "code",
      "source": [
        "#penjumlahan\n",
        "x = 3\n",
        "x = x + 3\n",
        "print(x)\n",
        "x = 3\n",
        "x += 5\n",
        "print('-'*20)"
      ],
      "metadata": {
        "colab": {
          "base_uri": "https://localhost:8080/"
        },
        "id": "1EiRco7MFLPT",
        "outputId": "755480cf-f9b6-482f-cd63-bd67fc9d9919"
      },
      "execution_count": null,
      "outputs": [
        {
          "output_type": "stream",
          "name": "stdout",
          "text": [
            "6\n",
            "--------------------\n"
          ]
        }
      ]
    },
    {
      "cell_type": "code",
      "source": [
        "#pengurangan\n",
        "x = 3\n",
        "x = x - 3\n",
        "print(x)\n",
        "x = 3\n",
        "x -= 3\n",
        "print('-'*20)"
      ],
      "metadata": {
        "colab": {
          "base_uri": "https://localhost:8080/"
        },
        "id": "RS3cwunaFW-j",
        "outputId": "b7b0a250-2f01-4678-b96b-19e406344861"
      },
      "execution_count": null,
      "outputs": [
        {
          "output_type": "stream",
          "name": "stdout",
          "text": [
            "0\n",
            "--------------------\n"
          ]
        }
      ]
    },
    {
      "cell_type": "code",
      "source": [
        "#perkalian\n",
        "x = 3\n",
        "x = x * 3\n",
        "print(x)\n",
        "x = 3\n",
        "x *= 3\n",
        "print('-'*20)"
      ],
      "metadata": {
        "colab": {
          "base_uri": "https://localhost:8080/"
        },
        "id": "ZRDK54xnFecV",
        "outputId": "f92c06b4-a95e-4734-ef10-dabcaa109743"
      },
      "execution_count": null,
      "outputs": [
        {
          "output_type": "stream",
          "name": "stdout",
          "text": [
            "9\n",
            "--------------------\n"
          ]
        }
      ]
    },
    {
      "cell_type": "code",
      "source": [
        "#pembagian\n",
        "x = 3\n",
        "x = x / 3\n",
        "print(x)\n",
        "x = 3\n",
        "x /= 3\n",
        "print('-'*20)"
      ],
      "metadata": {
        "colab": {
          "base_uri": "https://localhost:8080/"
        },
        "id": "I8J8BqzKFlqm",
        "outputId": "3ce8d7ab-26ea-4111-c259-7d7f09bcbfb9"
      },
      "execution_count": null,
      "outputs": [
        {
          "output_type": "stream",
          "name": "stdout",
          "text": [
            "1.0\n",
            "--------------------\n"
          ]
        }
      ]
    },
    {
      "cell_type": "code",
      "source": [
        "#modulus\n",
        "x = 3\n",
        "x = x % 3\n",
        "print(x)\n",
        "x = 3\n",
        "x %= 3\n",
        "print('-'*20)"
      ],
      "metadata": {
        "colab": {
          "base_uri": "https://localhost:8080/"
        },
        "id": "DNBJ7ALYFtBr",
        "outputId": "81cd8d2d-ce9b-4214-8a70-adce5ce79560"
      },
      "execution_count": null,
      "outputs": [
        {
          "output_type": "stream",
          "name": "stdout",
          "text": [
            "0\n",
            "--------------------\n"
          ]
        }
      ]
    },
    {
      "cell_type": "code",
      "source": [
        "#pembagian flooring\n",
        "x = 3\n",
        "x = x // 3\n",
        "print(x)\n",
        "x = 3\n",
        "x //= 3\n",
        "print('-'*20)"
      ],
      "metadata": {
        "colab": {
          "base_uri": "https://localhost:8080/"
        },
        "id": "MWyABh24F0Ma",
        "outputId": "aef685b5-f273-49d6-dfd1-4ab809b9b495"
      },
      "execution_count": null,
      "outputs": [
        {
          "output_type": "stream",
          "name": "stdout",
          "text": [
            "1\n",
            "--------------------\n"
          ]
        }
      ]
    },
    {
      "cell_type": "code",
      "source": [
        "#perpangkatan\n",
        "x = 3\n",
        "x = x ** 3\n",
        "print(x)\n",
        "x = 3\n",
        "x **= 3\n",
        "print('-'*20)"
      ],
      "metadata": {
        "colab": {
          "base_uri": "https://localhost:8080/"
        },
        "id": "srku2IOuF5yN",
        "outputId": "7ebb7f9f-22f0-4891-c6d1-358478ed25f8"
      },
      "execution_count": null,
      "outputs": [
        {
          "output_type": "stream",
          "name": "stdout",
          "text": [
            "27\n",
            "--------------------\n"
          ]
        }
      ]
    },
    {
      "cell_type": "markdown",
      "source": [
        "**Operator pembanding**"
      ],
      "metadata": {
        "id": "qGKsq7achtPj"
      }
    },
    {
      "cell_type": "code",
      "source": [
        "#operator pembanding\n",
        "print (5==6)\n",
        "print (5!=5)\n",
        "print (5!=6)\n",
        "print (5>5)\n",
        "print (5>6)\n",
        "print (5<5)\n",
        "print(5<6)\n",
        "print (5>=5)\n",
        "print (5<=5)"
      ],
      "metadata": {
        "colab": {
          "base_uri": "https://localhost:8080/"
        },
        "id": "DY-dF92aei2A",
        "outputId": "6f1d1695-70c6-4373-e6aa-8122a8b8e06e"
      },
      "execution_count": null,
      "outputs": [
        {
          "output_type": "stream",
          "name": "stdout",
          "text": [
            "False\n",
            "False\n",
            "True\n",
            "False\n",
            "False\n",
            "False\n",
            "True\n",
            "True\n",
            "True\n"
          ]
        }
      ]
    },
    {
      "cell_type": "markdown",
      "source": [
        "**Operator Logika**"
      ],
      "metadata": {
        "id": "Q9ZkJQbRiSLu"
      }
    },
    {
      "cell_type": "code",
      "source": [
        "print(True)\n",
        "print(False)\n",
        "print(True and False)\n",
        "print(False or True)\n",
        "print(not False and True)\n",
        "print(not True and False)"
      ],
      "metadata": {
        "colab": {
          "base_uri": "https://localhost:8080/"
        },
        "id": "9JFPThLhh1yF",
        "outputId": "365d6f30-f877-4650-bc40-313551e859dd"
      },
      "execution_count": null,
      "outputs": [
        {
          "output_type": "stream",
          "name": "stdout",
          "text": [
            "True\n",
            "False\n",
            "False\n",
            "True\n",
            "True\n",
            "False\n"
          ]
        }
      ]
    },
    {
      "cell_type": "markdown",
      "source": [
        "**Operator Membership**"
      ],
      "metadata": {
        "id": "oHhkbWt4iZdQ"
      }
    },
    {
      "cell_type": "code",
      "source": [
        "a = (2,1,9,0,5,3)\n",
        "b = 8\n",
        "print (b in a)\n",
        "\n",
        "print ('-'*20)\n",
        "a = (1,2,3,4,5,6)\n",
        "b = 0\n",
        "print (b not in a)"
      ],
      "metadata": {
        "colab": {
          "base_uri": "https://localhost:8080/"
        },
        "id": "6f189zZFfD1r",
        "outputId": "3e678d8c-f5de-40fe-80f9-1fd771a7526d"
      },
      "execution_count": null,
      "outputs": [
        {
          "output_type": "stream",
          "name": "stdout",
          "text": [
            "False\n",
            "--------------------\n",
            "True\n"
          ]
        }
      ]
    },
    {
      "cell_type": "markdown",
      "source": [
        "**Variabel**"
      ],
      "metadata": {
        "id": "MGtmt1jbio9D"
      }
    },
    {
      "cell_type": "code",
      "source": [
        "#membuat variabel\n",
        "kalimat = 'ini  adalah variabel'\n",
        "bilangan1 = 4\n",
        "bilangan2 = 2.5\n",
        "bilangan3 = True\n",
        "bilangan4 = 1j + 4"
      ],
      "metadata": {
        "id": "bPdQ9cbJfZiQ"
      },
      "execution_count": null,
      "outputs": []
    },
    {
      "cell_type": "code",
      "source": [
        "#menampilkan variabel\n",
        "print(kalimat)\n",
        "print(bilangan1)\n",
        "print(bilangan2)\n",
        "print(bilangan3)\n",
        "print(bilangan4)"
      ],
      "metadata": {
        "colab": {
          "base_uri": "https://localhost:8080/"
        },
        "id": "mAtL1Kqrf2mr",
        "outputId": "31ce830f-5066-4e89-abb0-f3ab77b53a97"
      },
      "execution_count": null,
      "outputs": [
        {
          "output_type": "stream",
          "name": "stdout",
          "text": [
            "ini  adalah variabel\n",
            "4\n",
            "2.5\n",
            "True\n",
            "(4+1j)\n"
          ]
        }
      ]
    },
    {
      "cell_type": "markdown",
      "source": [
        "**Tipe data**"
      ],
      "metadata": {
        "id": "q8oV5Cltisp3"
      }
    },
    {
      "cell_type": "code",
      "source": [
        "print(str(kalimat))\n",
        "print(float(bilangan2))\n",
        "print(bool(bilangan3))\n",
        "print(complex(bilangan4))"
      ],
      "metadata": {
        "colab": {
          "base_uri": "https://localhost:8080/"
        },
        "id": "bKZLOc9ZgIt1",
        "outputId": "4258a995-8f91-4a75-a02c-a1573896c523"
      },
      "execution_count": null,
      "outputs": [
        {
          "output_type": "stream",
          "name": "stdout",
          "text": [
            "ini  adalah variabel\n",
            "2.5\n",
            "True\n",
            "(4+1j)\n"
          ]
        }
      ]
    },
    {
      "cell_type": "code",
      "source": [
        "print(type(kalimat))\n",
        "print(type(bilangan1))\n",
        "print(type(bilangan2))\n",
        "print(type(bilangan3))\n",
        "print(type(bilangan4))"
      ],
      "metadata": {
        "colab": {
          "base_uri": "https://localhost:8080/"
        },
        "id": "blhHibPAjDcA",
        "outputId": "25a77af5-f19f-4458-b11f-a65b03bce028"
      },
      "execution_count": null,
      "outputs": [
        {
          "output_type": "stream",
          "name": "stdout",
          "text": [
            "<class 'str'>\n",
            "<class 'int'>\n",
            "<class 'float'>\n",
            "<class 'bool'>\n",
            "<class 'complex'>\n"
          ]
        }
      ]
    },
    {
      "cell_type": "markdown",
      "source": [
        "**Konversi Tipe Data**"
      ],
      "metadata": {
        "id": "2V8sE8fxizDq"
      }
    },
    {
      "cell_type": "code",
      "execution_count": null,
      "metadata": {
        "id": "CBcfQPa99XSk",
        "colab": {
          "base_uri": "https://localhost:8080/"
        },
        "outputId": "1e20166a-3b4b-49d9-cee5-e783f90c6e7c"
      },
      "outputs": [
        {
          "output_type": "stream",
          "name": "stdout",
          "text": [
            "4\n",
            "2\n"
          ]
        }
      ],
      "source": [
        "#konversi tipe data\n",
        "print(int(bilangan1))\n",
        "print(int(bilangan2))"
      ]
    },
    {
      "cell_type": "code",
      "source": [
        "#tipe data float\n",
        "print(float(bilangan1))\n",
        "print(float(bilangan2))"
      ],
      "metadata": {
        "colab": {
          "base_uri": "https://localhost:8080/"
        },
        "id": "vswyFsjIAycz",
        "outputId": "1066a085-8b63-430f-c637-98046a37214b"
      },
      "execution_count": null,
      "outputs": [
        {
          "output_type": "stream",
          "name": "stdout",
          "text": [
            "4.0\n",
            "2.5\n"
          ]
        }
      ]
    },
    {
      "cell_type": "code",
      "source": [
        "#tipe data string\n",
        "print(str(bilangan1))\n",
        "print(str(bilangan2))"
      ],
      "metadata": {
        "colab": {
          "base_uri": "https://localhost:8080/"
        },
        "id": "1MkRc6K7B9hm",
        "outputId": "b52e10ad-4307-42fb-887b-f39006df15e4"
      },
      "execution_count": null,
      "outputs": [
        {
          "output_type": "stream",
          "name": "stdout",
          "text": [
            "4\n",
            "2.5\n"
          ]
        }
      ]
    },
    {
      "cell_type": "code",
      "source": [
        "#konversi data bool\n",
        "print(bool(bilangan1))\n",
        "print(bool(bilangan2))"
      ],
      "metadata": {
        "colab": {
          "base_uri": "https://localhost:8080/"
        },
        "id": "fgelSyNLBEh3",
        "outputId": "9a3cdae9-3b8e-4a78-a1f6-0088b187d68f"
      },
      "execution_count": null,
      "outputs": [
        {
          "output_type": "stream",
          "name": "stdout",
          "text": [
            "True\n",
            "True\n"
          ]
        }
      ]
    },
    {
      "cell_type": "code",
      "source": [
        "#tipe data kompleks\n",
        "print(complex(bilangan1))\n",
        "print(complex(bilangan2))\n",
        "print(complex(bilangan3))"
      ],
      "metadata": {
        "colab": {
          "base_uri": "https://localhost:8080/"
        },
        "id": "y2WD4p-JBN2K",
        "outputId": "fd7fd63f-0993-488e-846d-8e814ba18018"
      },
      "execution_count": null,
      "outputs": [
        {
          "output_type": "stream",
          "name": "stdout",
          "text": [
            "(4+0j)\n",
            "(2.5+0j)\n",
            "(1+0j)\n"
          ]
        }
      ]
    }
  ]
}